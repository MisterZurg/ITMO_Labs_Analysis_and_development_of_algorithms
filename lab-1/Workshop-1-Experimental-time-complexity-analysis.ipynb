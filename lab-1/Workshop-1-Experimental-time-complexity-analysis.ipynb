{
 "cells":[
  {
   "cell_type":"markdown",
   "source":[
    "# Pseudo-Workshop 1 - report"
   ],
   "attachments":{
    
   },
   "metadata":{
    "datalore":{
     "node_id":"Pseudo-Workshop 1 - report",
     "type":"MD",
     "hide_input_from_viewers":false,
     "hide_output_from_viewers":false,
     "sheet_delimiter":true
    }
   }
  },
  {
   "cell_type":"markdown",
   "source":[
    "# Task 1. Experimental time complexity analysis"
   ],
   "attachments":{
    
   },
   "metadata":{
    "datalore":{
     "node_id":"VBc1CGnrLEebo5mry35D7P",
     "type":"MD",
     "hide_input_from_viewers":false,
     "hide_output_from_viewers":false
    }
   }
  },
  {
   "cell_type":"markdown",
   "source":[
    "## Goal\n",
    "Experimental study of the time complexity of different algorithms\n",
    "## Problems and methods\n",
    "For each `n` from `1` to `2000`, measure the average computer execution time (using\n",
    "timestamps) of programs implementing the algorithms and functions below for five\n",
    "runs. Plot the data obtained showing the average execution time as a function of `n`.\n",
    "Conduct the theoretical analysis of the time complexity of the algorithms in question\n",
    "and compare the empirical and theoretical time complexities."
   ],
   "attachments":{
    
   },
   "metadata":{
    "datalore":{
     "node_id":"98cpfVLmk04niRJ1gnYI8c",
     "type":"MD",
     "hide_input_from_viewers":false,
     "hide_output_from_viewers":false
    }
   }
  },
  {
   "cell_type":"code",
   "source":[
    "import pandas as pd\n",
    "import numpy as np\n",
    "import datetime\n",
    "import plotly.express as px"
   ],
   "execution_count":2,
   "outputs":[
    
   ],
   "metadata":{
    "datalore":{
     "node_id":"lFkcZWilrWvjt0TPuY4vJg",
     "type":"CODE",
     "hide_input_from_viewers":false,
     "hide_output_from_viewers":false
    }
   }
  },
  {
   "cell_type":"markdown",
   "source":[
    "## I. Generate an n-dimensional random vector $v = [v_1, v_2, … , v_n]$ with non-negative elements. For $v$, implement the following calculations and algorithms:"
   ],
   "attachments":{
    
   },
   "metadata":{
    "datalore":{
     "node_id":"8L5Jm2nhraLI9pfqZHDLHZ",
     "type":"MD",
     "hide_input_from_viewers":false,
     "hide_output_from_viewers":false
    }
   }
  },
  {
   "cell_type":"code",
   "source":[
    "def generate_vector(length):\n",
    "    # Creating vector\n",
    "    vector = []\n",
    "\n",
    "    # Generating numbers for vector\n",
    "    for i in range(1, length + 1):\n",
    "        vector.append(np.random.randint(1, length))\n",
    "\n",
    "    return vector"
   ],
   "execution_count":2,
   "outputs":[
    
   ],
   "metadata":{
    "datalore":{
     "node_id":"KpWop4wAlCan4q4Qp2ifvB",
     "type":"CODE",
     "hide_input_from_viewers":false,
     "hide_output_from_viewers":false
    }
   }
  },
  {
   "cell_type":"markdown",
   "source":[
    "### 1) $f(v) = const$ (constant function)\n",
    "\n",
    "measure the average computer execution time using timestamps\n",
    "s implementing the algorithms and functions below for **five** runs\n",
    "\n",
    "Plot the data obtained showing the average execution time as a function of n.\n",
    "Conduct the theoretical analysis of the time complexity of the algorithms in question\n",
    "and compare the empirical and theoretical time complexities."
   ],
   "attachments":{
    
   },
   "metadata":{
    "datalore":{
     "node_id":"rQb6B6XYU5eIuvvCljvzqD",
     "type":"MD",
     "hide_input_from_viewers":false,
     "hide_output_from_viewers":false
    }
   }
  },
  {
   "cell_type":"code",
   "source":[
    "\"\"\"\n",
    "    constant_function() — performs simple constant operation adding two numbers\n",
    "    Time Complexity: O(n)\n",
    "\"\"\"\n",
    "def constant_function(vector):\n",
    "    # for number in vector:\n",
    "   сonstant_operation = 1 + 1"
   ],
   "execution_count":3,
   "outputs":[
    
   ],
   "metadata":{
    "datalore":{
     "node_id":"XnqXsmacmW5ijbxJFvBqCX",
     "type":"CODE",
     "hide_input_from_viewers":false,
     "hide_output_from_viewers":false
    }
   }
  },
  {
   "cell_type":"markdown",
   "source":[
    "### 2) $f(v) = \\Sigma^{n}_{k+1} v_k$ (the sum of elements)"
   ],
   "attachments":{
    
   },
   "metadata":{
    "datalore":{
     "node_id":"pfh56fwhTlnr0GHsPpS9uy",
     "type":"MD",
     "hide_input_from_viewers":false,
     "hide_output_from_viewers":false
    }
   }
  },
  {
   "cell_type":"code",
   "source":[
    "\"\"\"\n",
    "    sum_function() — calculates sum of the given vector\n",
    "    Time Complexity: O(n)\n",
    "\"\"\"\n",
    "def sum_function(vector):\n",
    "    result = 0\n",
    "\n",
    "    for number in vector:\n",
    "        result += number"
   ],
   "execution_count":4,
   "outputs":[
    
   ],
   "metadata":{
    "datalore":{
     "node_id":"xIA3w8R4tH101Qy8Kys95Y",
     "type":"CODE",
     "hide_input_from_viewers":false,
     "hide_output_from_viewers":false
    }
   }
  },
  {
   "cell_type":"markdown",
   "source":[
    "### 3) $f(v) = \\prod^{n}_{k+1} v_k$ (the sum of elements)"
   ],
   "attachments":{
    
   },
   "metadata":{
    "datalore":{
     "node_id":"HSIwQJ3Qxe788fDdHn2C5b",
     "type":"MD",
     "hide_input_from_viewers":false,
     "hide_output_from_viewers":false
    }
   }
  },
  {
   "cell_type":"code",
   "source":[
    "\"\"\"\n",
    "    sum_funcproduct_function — calculates product of the numbers from given vector\n",
    "    Time Complexity: O(n)\n",
    "\"\"\"\n",
    "def product_function(vector):\n",
    "    result = 1\n",
    "\n",
    "    for number in vector:\n",
    "        result *= number"
   ],
   "execution_count":5,
   "outputs":[
    
   ],
   "metadata":{
    "datalore":{
     "node_id":"7dkLGM3g8m3ehLnzVFhVCm",
     "type":"CODE",
     "hide_input_from_viewers":false,
     "hide_output_from_viewers":false
    }
   }
  },
  {
   "cell_type":"markdown",
   "source":[
    "### 4) supposing that the elements of $v$ are the coefficients of a polynomial $P$ of degree $n − 1$, calculate the value $P(1.5)$ by a direct calculation of \n",
    "### $P(X) = \\Sigma^{n}_{k+1} v_kx^{k-1}$ (i.e. evaluating each term one by one) and by Horner’s method by representing the polynomial as \n",
    "### $P(x) = v_1 + x(v_2 * x(v_3 + \\dots))$"
   ],
   "attachments":{
    
   },
   "metadata":{
    "datalore":{
     "node_id":"MukeZkNoKVhcCQr04zkENm",
     "type":"MD",
     "hide_input_from_viewers":false,
     "hide_output_from_viewers":false
    }
   }
  },
  {
   "cell_type":"code",
   "source":[
    "\"\"\"\n",
    "    horners_function() — calculates roots P(1.5) = v1 + x(v2 + x(v3 + · · ·)), using naive method\n",
    "    Time Complexity:\n",
    "\"\"\"\n",
    "def horners_function(vector):\n",
    "    vector_length = len(vector)\n",
    "\n",
    "    result = vector[0]\n",
    "    x = 1.5\n",
    "\n",
    "    for i in range(1, vector_length):\n",
    "        result = result * (x + vector[i])"
   ],
   "execution_count":6,
   "outputs":[
    
   ],
   "metadata":{
    "datalore":{
     "node_id":"S9StZixOyEeLoEDh4qrrre",
     "type":"CODE",
     "hide_input_from_viewers":false,
     "hide_output_from_viewers":false
    }
   }
  },
  {
   "cell_type":"markdown",
   "source":[
    "### 5) `Bubble Sort` of the elements of $v$;"
   ],
   "attachments":{
    
   },
   "metadata":{
    "datalore":{
     "node_id":"fOQX2061s1W2ED7iP8dmte",
     "type":"MD",
     "hide_input_from_viewers":false,
     "hide_output_from_viewers":false
    }
   }
  },
  {
   "cell_type":"code",
   "source":[
    "\"\"\"\n",
    "    bouble_sort sorts given vector\n",
    "    Time Complexity O(n^2)\n",
    "    Space Complexity ~ O(n)\n",
    "\"\"\"\n",
    "def bubble_sort(vector):\n",
    "    length = len(vector)\n",
    "    for i in range(length - 1):\n",
    "        swapped = False\n",
    "        for j in range(length - 1 - i):\n",
    "            if vector[j] > vector[j + 1]:\n",
    "                swapped = True\n",
    "                vector[j], vector[j + 1] = vector[j + 1], vector[j]\n",
    "        if not swapped:\n",
    "            break  # Stop iteration if the collection is sorted.\n",
    "    # return vector"
   ],
   "execution_count":7,
   "outputs":[
    
   ],
   "metadata":{
    "datalore":{
     "node_id":"NES3FSVcO5dAI0NHIOmCv1",
     "type":"CODE",
     "hide_input_from_viewers":false,
     "hide_output_from_viewers":false
    }
   }
  },
  {
   "cell_type":"code",
   "source":[
    "\"\"\"\n",
    "    Source Academy.Yandex converted from C++ to Python\n",
    "\"\"\"\n",
    "def bubble_sort_2(vector):\n",
    "    vector_length = len(vector)\n",
    "\n",
    "    for i in range(0, vector_length+1):\n",
    "        for j in range(0, vector_length - i):\n",
    "            if vector[j + 1] < vector[j]:\n",
    "                vector[j], vector[j + 1] = vector[j + 1], vector[j]"
   ],
   "execution_count":8,
   "outputs":[
    {
     "data":{
      "text\/plain":[
       "'\\nvoid BubbleSort(vector<int>& values) {\\n  for (size_t idx_i = 0; idx_i + 1 < values.size(); ++idx_i) {\\n    for (size_t idx_j = 0; idx_j + 1 < values.size() - idx_i; ++idx_j) {\\n      if (values[idx_j + 1] < values[idx_j]) {\\n        swap(values[idx_j], values[idx_j + 1]);\\n      }\\n    }\\n  }\\n}\\n'"
      ]
     },
     "metadata":{
      
     },
     "output_type":"display_data"
    }
   ],
   "metadata":{
    "datalore":{
     "node_id":"qzNvX48kwkzVzJIbVUEhKi",
     "type":"CODE",
     "hide_input_from_viewers":false,
     "hide_output_from_viewers":false
    }
   }
  },
  {
   "cell_type":"markdown",
   "source":[
    "### 6) `Quick Sort` of the elements of $v$;"
   ],
   "attachments":{
    
   },
   "metadata":{
    "datalore":{
     "node_id":"aocLJFKwUlBh6aFXo1DKxx",
     "type":"MD",
     "hide_input_from_viewers":false,
     "hide_output_from_viewers":false
    }
   }
  },
  {
   "cell_type":"code",
   "source":[
    "\"\"\"\n",
    "    quick_sort sorts given vector with the use of 1 way partition\n",
    "    Time Complexity O(n log n)\n",
    "    Space Complexity \n",
    "\"\"\"\n",
    "def quick_sort(vector, l, r):\n",
    "    if l < r:\n",
    "        return \n",
    "\n",
    "    m = partition(vector, l, r)\n",
    "    \n",
    "    quick_sort(vector, l, m-1) \n",
    "    quick_sort(vector, m+1, r)\n",
    "\n",
    "\n",
    "\"\"\"\n",
    "    partition переставляет элементы вектора c.о.\n",
    "    — \"до опорного m-того места\" элементы были меньше или равны;\n",
    "    — после опорного m-того места элементы были больше или равны.\n",
    "    \n",
    "    returns index. of m'th elem\n",
    "    Time Complexity O(n log n)\n",
    "    Space Complexity \n",
    "\"\"\"\n",
    "def partition(vector, l, r):    \n",
    "    pivot = vector[l]\n",
    "    j = l\n",
    "    \n",
    "    for i in range(l+1,r):\n",
    "        if vector[i] <= pivot:\n",
    "            j = j + 1\n",
    "            vector[j], vector[i] = vector[i], vector[j]\n",
    "\n",
    "        vector[j], vector[l] = vector[l], vector[j]\n",
    "\n",
    "\n",
    "    return j"
   ],
   "execution_count":9,
   "outputs":[
    
   ],
   "metadata":{
    "datalore":{
     "node_id":"XdkHMXqLHO2s1qhi9A8fkx",
     "type":"CODE",
     "hide_input_from_viewers":false,
     "hide_output_from_viewers":false
    }
   }
  },
  {
   "cell_type":"markdown",
   "source":[
    "### 7) `Timsort` of the elements of $v$"
   ],
   "attachments":{
    
   },
   "metadata":{
    "datalore":{
     "node_id":"0Yd8IaBfpTDwEKNVk7wSi3",
     "type":"MD",
     "hide_input_from_viewers":false,
     "hide_output_from_viewers":false
    }
   }
  },
  {
   "cell_type":"code",
   "source":[
    "MIN_MERGE = 32\n",
    "\n",
    "def calcMinRun(n):\n",
    "    \"\"\"Returns the minimum length of a\n",
    "    run from 23 - 64 so that\n",
    "    the len(array)\/minrun is less than or\n",
    "    equal to a power of 2.\n",
    " \n",
    "    e.g. 1=>1, ..., 63=>63, 64=>32, 65=>33,\n",
    "    ..., 127=>64, 128=>32, ...\n",
    "    \"\"\"\n",
    "    r = 0\n",
    "    while n >= MIN_MERGE:\n",
    "        r |= n & 1\n",
    "        n >>= 1\n",
    "    return n + r\n",
    " \n",
    " \n",
    "# This function sorts array from left index to\n",
    "# to right index which is of size atmost RUN\n",
    "def insertionSort(arr, left, right):\n",
    "    for i in range(left + 1, right + 1):\n",
    "        j = i\n",
    "        while j > left and arr[j] < arr[j - 1]:\n",
    "            arr[j], arr[j - 1] = arr[j - 1], arr[j]\n",
    "            j -= 1\n",
    " \n",
    " \n",
    "# Merge function merges the sorted runs\n",
    "def merge(arr, l, m, r):\n",
    " \n",
    "    # original array is broken in two parts\n",
    "    # left and right array\n",
    "    len1, len2 = m - l + 1, r - m\n",
    "    left, right = [], []\n",
    "\n",
    "    for i in range(0, len1):\n",
    "        left.append(arr[l + i])\n",
    "        \n",
    "    for i in range(0, len2):\n",
    "        right.append(arr[m + 1 + i])\n",
    " \n",
    "    i, j, k = 0, 0, l\n",
    " \n",
    "    # after comparing, we merge those two array\n",
    "    # in larger sub array\n",
    "    while i < len1 and j < len2:\n",
    "        if left[i] <= right[j]:\n",
    "            arr[k] = left[i]\n",
    "            i += 1\n",
    " \n",
    "        else:\n",
    "            arr[k] = right[j]\n",
    "            j += 1\n",
    " \n",
    "        k += 1\n",
    " \n",
    "    # Copy remaining elements of left, if any\n",
    "    while i < len1:\n",
    "        arr[k] = left[i]\n",
    "        k += 1\n",
    "        i += 1\n",
    " \n",
    "    # Copy remaining element of right, if any\n",
    "    while j < len2:\n",
    "        arr[k] = right[j]\n",
    "        k += 1\n",
    "        j += 1\n",
    " \n",
    " \n",
    "# Iterative Timsort function to sort the\n",
    "# array[0...n-1] (similar to merge sort)\n",
    "def tim_sort(arr):\n",
    "    n = len(arr)\n",
    "    minRun = calcMinRun(n)\n",
    " \n",
    "    # Sort individual subarrays of size RUN\n",
    "    for start in range(0, n, minRun):\n",
    "        end = min(start + minRun - 1, n - 1)\n",
    "        insertionSort(arr, start, end)\n",
    " \n",
    "    # Start merging from size RUN (or 32). It will merge\n",
    "    # to form size 64, then 128, 256 and so on ....\n",
    "    size = minRun\n",
    "    while size < n:\n",
    " \n",
    "        # Pick starting point of left sub array. We\n",
    "        # are going to merge arr[left..left+size-1]\n",
    "        # and arr[left+size, left+2*size-1]\n",
    "        # After every merge, we increase left by 2*size\n",
    "        for left in range(0, n, 2 * size):\n",
    " \n",
    "            # Find ending point of left sub array\n",
    "            # mid+1 is starting point of right sub array\n",
    "            mid = min(n - 1, left + size - 1)\n",
    "            right = min((left + 2 * size - 1), (n - 1))\n",
    " \n",
    "            # Merge sub array arr[left.....mid] &\n",
    "            # arr[mid+1....right]\n",
    "            if mid < right:\n",
    "                merge(arr, left, mid, right)\n",
    " \n",
    "        size = 2 * size"
   ],
   "execution_count":11,
   "outputs":[
    
   ],
   "metadata":{
    "datalore":{
     "node_id":"JvheV0jnvL3FikSfFfmMHU",
     "type":"CODE",
     "hide_input_from_viewers":false,
     "hide_output_from_viewers":false
    }
   }
  },
  {
   "cell_type":"code",
   "source":[
    "\"\"\"\n",
    "get_average_time_from_five_executions() — gets current number from vector and fuction \n",
    "    that will be used for calculation average time from 5 calls \n",
    "\"\"\"\n",
    "def get_average_time_from_five_executions(vector, calculation_algorithm, algorithm_name): # (function) ... TBA\n",
    "    time_5_calcs = []\n",
    "    for i in range(0, 5):\n",
    "        time_start = datetime.datetime.now()\n",
    "        \n",
    "        if algorithm_name == \"quick_sort\":\n",
    "            calculation_algorithm(vector, 0, len(vector)) # <- constant_function(), sum_function(), product_function() and so on\n",
    "        else:\n",
    "            calculation_algorithm(vector)\n",
    "\n",
    "        time_stop = datetime.datetime.now()\n",
    "\n",
    "        time_5_calcs.append((time_stop - time_start).total_seconds())\n",
    "    \n",
    "    average_time = sum(time_5_calcs) \/ 5\n",
    "\n",
    "    return average_time"
   ],
   "execution_count":13,
   "outputs":[
    
   ],
   "metadata":{
    "datalore":{
     "node_id":"j0ZSmfQbkld3nioNkdaqPg",
     "type":"CODE",
     "hide_input_from_viewers":false,
     "hide_output_from_viewers":false
    }
   }
  },
  {
   "cell_type":"code",
   "source":[
    "\"\"\"\n",
    "    get_vector_with_average_time() — calculates average time from 5 functions and returns vector with average\n",
    "\"\"\"\n",
    "def get_vector_with_average_time_from_given_alg(vector, calculation_algorithm, algorithm_name):\n",
    "    vector_time = []\n",
    "\n",
    "    vector_length = len(vector)\n",
    "    \n",
    "    for current_right_border in range(1, vector_length):\n",
    "        vector_with_border = vector[0:current_right_border]\n",
    "        \n",
    "        average = get_average_time_from_five_executions(vector_with_border, calculation_algorithm, algorithm_name)\n",
    "\n",
    "        vector_time.append(average)\n",
    "\n",
    "    return vector_time"
   ],
   "execution_count":15,
   "outputs":[
    
   ],
   "metadata":{
    "datalore":{
     "node_id":"R2gxnmdSrZFrss0wGDmq0n",
     "type":"CODE",
     "hide_input_from_viewers":false,
     "hide_output_from_viewers":false
    }
   }
  },
  {
   "cell_type":"code",
   "source":[
    "\"\"\"\n",
    "    print_plot - draws a legend for calculation algorithm\n",
    "\"\"\"\n",
    "def print_plot(dataframe, algorithm):\n",
    "    fig = px.line(dataframe, title=algorithm)\n",
    "    fig.update_xaxes(title_text='observation')\n",
    "    fig.update_yaxes(title_text='mean_time')\n",
    "    fig.show()"
   ],
   "execution_count":16,
   "outputs":[
    
   ],
   "metadata":{
    "datalore":{
     "node_id":"pFzzqr8cQGxlQZ9k9pq7Ee",
     "type":"CODE",
     "hide_input_from_viewers":false,
     "hide_output_from_viewers":false
    }
   }
  },
  {
   "cell_type":"code",
   "source":[
    "# берет все функции и рисует график\n",
    "def solution(vector):\n",
    "    calc_algth = [\n",
    "        constant_function, \n",
    "        sum_function, \n",
    "        product_function,\n",
    "        horners_function,\n",
    "        bubble_sort,\n",
    "        quick_sort,\n",
    "        tim_sort\n",
    "    ]\n",
    "    calc_algth_names = [\n",
    "        \"constant_function\",\n",
    "        \"sum_function\",\n",
    "        \"product_function\",\n",
    "        \"horners_function\",\n",
    "        \"bubble_sort\",\n",
    "        \"quick_sort\",\n",
    "        \"tim_sort\"\n",
    "    ]\n",
    "    \n",
    "    for alg_idx in range(0, len(calc_algth)):\n",
    "        algorithm_name = calc_algth_names[alg_idx]\n",
    "\n",
    "        vector_time = get_vector_with_average_time_from_given_alg(vector, calc_algth[alg_idx], algorithm_name)\n",
    "        print_plot(vector_time, algorithm_name)"
   ],
   "execution_count":17,
   "outputs":[
    
   ],
   "metadata":{
    "datalore":{
     "node_id":"2jpXJdgJj5vCBQRAcdZmpq",
     "type":"CODE",
     "hide_input_from_viewers":false,
     "hide_output_from_viewers":false
    }
   }
  },
  {
   "cell_type":"code",
   "source":[
    "vector_2000 = generate_vector(2000)\n",
    "\n",
    "solution(vector_2000)"
   ],
   "execution_count":18,
   "outputs":[
    {
     "ename":"NameError",
     "evalue":"NameError: name 'generate_vector' is not defined",
     "traceback":[
      "\u001b[0;31m---------------------------------------------------------------------------",
      "Traceback (most recent call last)",
      "    at line 1 in <module>",
      "NameError: name 'generate_vector' is not defined"
     ],
     "output_type":"error"
    }
   ],
   "metadata":{
    "datalore":{
     "node_id":"HYqEb3u2ww0NZ0HUsslR4Y",
     "type":"CODE",
     "hide_input_from_viewers":false,
     "hide_output_from_viewers":false
    }
   }
  },
  {
   "cell_type":"markdown",
   "source":[
    "## II. Generate random matrices $A$ and $B$ of size $n × n$ with non-negative elements.\n",
    "## Find the usual matrix product for $A$ and $B$"
   ],
   "attachments":{
    
   },
   "metadata":{
    "datalore":{
     "node_id":"72C137gx7hivWckwOQvy4b",
     "type":"MD",
     "hide_input_from_viewers":false,
     "hide_output_from_viewers":false
    }
   }
  },
  {
   "cell_type":"code",
   "source":[
    "def generate_sqare_matrix(size):\n",
    "    matrix = []\n",
    "\n",
    "    # Itarating throug matrix-lines\n",
    "    for line in range(1, size):\n",
    "        vector = []\n",
    "\n",
    "        # Generating numbers for vector\n",
    "        for number in range(1, size):\n",
    "            vector.append(np.random.randint(1, size))\n",
    "\n",
    "        matrix.append(vector)\n",
    "\n",
    "    return matrix"
   ],
   "execution_count":9,
   "outputs":[
    
   ],
   "metadata":{
    "datalore":{
     "node_id":"0vyvDoG7P8s8hLEl5TEuvl",
     "type":"CODE",
     "hide_input_from_viewers":false,
     "hide_output_from_viewers":false
    }
   }
  },
  {
   "cell_type":"code",
   "source":[
    "matrix_A = generate_sqare_matrix(20)"
   ],
   "execution_count":10,
   "outputs":[
    
   ],
   "metadata":{
    "datalore":{
     "node_id":"YAiSCQlSqN4gnlEtJGUxxt",
     "type":"CODE",
     "hide_input_from_viewers":false,
     "hide_output_from_viewers":false
    }
   }
  },
  {
   "cell_type":"code",
   "source":[
    "def square_matrix_product(A, B):\n",
    "    length = len(A) \n",
    "    result_matrix = [[0 for i in range(length)] for i in range(length)]\n",
    "    for i in range(length):\n",
    "        for j in range(length):\n",
    "            for k in range(length):\n",
    "                result_matrix[i][j] += A[i][k] * B[k][j]\n",
    "    return result_matrix"
   ],
   "execution_count":18,
   "outputs":[
    
   ],
   "metadata":{
    "datalore":{
     "node_id":"hQeTVSSmBUTuSiRdxzTBqL",
     "type":"CODE",
     "hide_input_from_viewers":false,
     "hide_output_from_viewers":false
    }
   }
  },
  {
   "cell_type":"code",
   "source":[
    "def get_average_time_from_5_matrix_product(A, B):\n",
    "    average_time = 0\n",
    "    time_5_calcs = []\n",
    "    \n",
    "    for i in range(5):\n",
    "        time_start = datetime.datetime.now()\n",
    "\n",
    "        product_holder = square_matrix_product(A, B)\n",
    "\n",
    "        time_stop = datetime.datetime.now()\n",
    "        time_5_calcs.append((time_stop - time_start).total_seconds())\n",
    "    \n",
    "        average_time = sum(time_5_calcs) \/ 5\n",
    "\n",
    "    return average_time"
   ],
   "execution_count":null,
   "outputs":[
    
   ],
   "metadata":{
    "datalore":{
     "node_id":"TtpBdgOmWdPNJys4CqPm4O",
     "type":"CODE",
     "hide_input_from_viewers":false,
     "hide_output_from_viewers":false
    }
   }
  },
  {
   "cell_type":"code",
   "source":[
    "def get_average_time_from_5_matrix_product(A, B):\n",
    "    average_time = 0\n",
    "    time_5_calcs = []\n",
    "    \n",
    "    for i in range(5):\n",
    "        time_start = datetime.datetime.now()\n",
    "\n",
    "        product_holder = square_matrix_product(A, B)\n",
    "\n",
    "        time_stop = datetime.datetime.now()\n",
    "        time_5_calcs.append((time_stop - time_start).total_seconds())\n",
    "    \n",
    "        average_time = sum(time_5_calcs) \/ 5\n",
    "\n",
    "    return average_time"
   ],
   "execution_count":11,
   "outputs":[
    
   ],
   "metadata":{
    "datalore":{
     "node_id":"qkEPuyteIzVJ1ghWw3zIUM",
     "type":"CODE",
     "hide_input_from_viewers":false,
     "hide_output_from_viewers":false
    }
   }
  },
  {
   "cell_type":"code",
   "source":[
    "def solution_of_matrix_product(matrix_size):\n",
    "    vector_time = []\n",
    "    for current_size in range(1, matrix_size):\n",
    "        matrix_A = generate_sqare_matrix(current_size)\n",
    "        matrix_B = generate_sqare_matrix(current_size)\n",
    "        \n",
    "        current_average_time = get_average_time_from_5_matrix_product(matrix_A, matrix_B)\n",
    "\n",
    "        print(f'Итерация:{current_size}, время выполнения {round(current_average_time, 3)}')\n",
    "\n",
    "        vector_time.append(current_average_time)\n",
    "\n",
    "    return vector_time"
   ],
   "execution_count":12,
   "outputs":[
    
   ],
   "metadata":{
    "datalore":{
     "node_id":"yYpUAqid8mlZonRBY2wDwU",
     "type":"CODE",
     "hide_input_from_viewers":false,
     "hide_output_from_viewers":false
    }
   }
  },
  {
   "cell_type":"code",
   "source":[
    "vector_time_matrix = solution_of_matrix_product(200)\n",
    "print_plot(vector_time_matrix, \"matrix_product\")"
   ],
   "execution_count":17,
   "outputs":[
    {
     "name":"stdout",
     "text":[
      "Итерация:1, время выполнения 0.0\n",
      "Итерация:2, время выполнения 0.0\n",
      "Итерация:3, время выполнения 0.0\n",
      "Итерация:4, время выполнения 0.0\n",
      "Итерация:5, время выполнения 0.0\n",
      "Итерация:6, время выполнения 0.0\n",
      "Итерация:7, время выполнения 0.0\n",
      "Итерация:8, время выполнения 0.0\n",
      "Итерация:9, время выполнения 0.0\n",
      "Итерация:10, время выполнения 0.0\n",
      "Итерация:11, время выполнения 0.001\n",
      "Итерация:12, время выполнения 0.0\n",
      "Итерация:13, время выполнения 0.0\n",
      "Итерация:14, время выполнения 0.001\n",
      "Итерация:15, время выполнения 0.001\n",
      "Итерация:16, время выполнения 0.001\n",
      "Итерация:17, время выполнения 0.001\n",
      "Итерация:18, время выполнения 0.003\n",
      "Итерация:19, время выполнения 0.003\n",
      "Итерация:20, время выполнения 0.005\n",
      "Итерация:21, время выполнения 0.006\n",
      "Итерация:22, время выполнения 0.006\n",
      "Итерация:23, время выполнения 0.003\n",
      "Итерация:24, время выполнения 0.004\n",
      "Итерация:25, время выполнения 0.004\n",
      "Итерация:26, время выполнения 0.004\n",
      "Итерация:27, время выполнения 0.005\n",
      "Итерация:28, время выполнения 0.006\n",
      "Итерация:29, время выполнения 0.006\n",
      "Итерация:30, время выполнения 0.007\n",
      "Итерация:31, время выполнения 0.007\n",
      "Итерация:32, время выполнения 0.008\n",
      "Итерация:33, время выполнения 0.009\n",
      "Итерация:34, время выполнения 0.01\n",
      "Итерация:35, время выполнения 0.011\n",
      "Итерация:36, время выполнения 0.012\n",
      "Итерация:37, время выполнения 0.013\n",
      "Итерация:38, время выполнения 0.014\n",
      "Итерация:39, время выполнения 0.015\n",
      "Итерация:40, время выполнения 0.017\n",
      "Итерация:41, время выполнения 0.018\n",
      "Итерация:42, время выполнения 0.019\n",
      "Итерация:43, время выполнения 0.021\n",
      "Итерация:44, время выполнения 0.022\n",
      "Итерация:45, время выполнения 0.024\n",
      "Итерация:46, время выполнения 0.025\n",
      "Итерация:47, время выполнения 0.027\n",
      "Итерация:48, время выполнения 0.029\n",
      "Итерация:49, время выполнения 0.03\n",
      "Итерация:50, время выполнения 0.033\n",
      "Итерация:51, время выполнения 0.034\n",
      "Итерация:52, время выполнения 0.037\n",
      "Итерация:53, время выполнения 0.039\n",
      "Итерация:54, время выполнения 0.041\n",
      "Итерация:55, время выполнения 0.043\n",
      "Итерация:56, время выполнения 0.046\n",
      "Итерация:57, время выполнения 0.049\n",
      "Итерация:58, время выполнения 0.051\n",
      "Итерация:59, время выполнения 0.054\n",
      "Итерация:60, время выполнения 0.057\n",
      "Итерация:61, время выполнения 0.06\n",
      "Итерация:62, время выполнения 0.063\n",
      "Итерация:63, время выполнения 0.066\n",
      "Итерация:64, время выполнения 0.069\n",
      "Итерация:65, время выполнения 0.072\n",
      "Итерация:66, время выполнения 0.075\n",
      "Итерация:67, время выполнения 0.079\n",
      "Итерация:68, время выполнения 0.082\n",
      "Итерация:69, время выполнения 0.086\n",
      "Итерация:70, время выполнения 0.09\n",
      "Итерация:71, время выполнения 0.094\n",
      "Итерация:72, время выполнения 0.098\n",
      "Итерация:73, время выполнения 0.102\n",
      "Итерация:74, время выполнения 0.109\n",
      "Итерация:75, время выполнения 0.111\n",
      "Итерация:76, время выполнения 0.115\n",
      "Итерация:77, время выполнения 0.122\n",
      "Итерация:78, время выполнения 0.126\n",
      "Итерация:79, время выполнения 0.13\n",
      "Итерация:80, время выполнения 0.135\n",
      "Итерация:81, время выполнения 0.14\n",
      "Итерация:82, время выполнения 0.145\n",
      "Итерация:83, время выполнения 0.15\n",
      "Итерация:84, время выполнения 0.156\n",
      "Итерация:85, время выполнения 0.162\n",
      "Итерация:86, время выполнения 0.168\n",
      "Итерация:87, время выполнения 0.174\n",
      "Итерация:88, время выполнения 0.179\n",
      "Итерация:89, время выполнения 0.186\n",
      "Итерация:90, время выполнения 0.192\n",
      "Итерация:91, время выполнения 0.199\n",
      "Итерация:92, время выполнения 0.206\n",
      "Итерация:93, время выполнения 0.212\n",
      "Итерация:94, время выполнения 0.219\n",
      "Итерация:95, время выполнения 0.226\n",
      "Итерация:96, время выполнения 0.233\n",
      "Итерация:97, время выполнения 0.241\n",
      "Итерация:98, время выполнения 0.249\n",
      "Итерация:99, время выполнения 0.257\n",
      "Итерация:100, время выполнения 0.264\n",
      "Итерация:101, время выполнения 0.272\n",
      "Итерация:102, время выполнения 0.28\n",
      "Итерация:103, время выполнения 0.289\n",
      "Итерация:104, время выполнения 0.3\n",
      "Итерация:105, время выполнения 0.307\n",
      "Итерация:106, время выполнения 0.315\n",
      "Итерация:107, время выполнения 0.326\n",
      "Итерация:108, время выполнения 0.335\n",
      "Итерация:109, время выполнения 0.343\n",
      "Итерация:110, время выполнения 0.352\n",
      "Итерация:111, время выполнения 0.363\n",
      "Итерация:112, время выполнения 0.373\n",
      "Итерация:113, время выполнения 0.382\n",
      "Итерация:114, время выполнения 0.393\n",
      "Итерация:115, время выполнения 0.404\n",
      "Итерация:116, время выполнения 0.452\n",
      "Итерация:117, время выполнения 0.425\n",
      "Итерация:118, время выполнения 0.435\n",
      "Итерация:119, время выполнения 0.449\n",
      "Итерация:120, время выполнения 0.461\n",
      "Итерация:121, время выполнения 0.472\n",
      "Итерация:122, время выполнения 0.482\n",
      "Итерация:123, время выполнения 0.494\n",
      "Итерация:124, время выполнения 0.506\n",
      "Итерация:125, время выполнения 0.52\n",
      "Итерация:126, время выполнения 0.533\n",
      "Итерация:127, время выполнения 0.546\n",
      "Итерация:128, время выполнения 0.559\n",
      "Итерация:129, время выполнения 0.569\n",
      "Итерация:130, время выполнения 0.589\n",
      "Итерация:131, время выполнения 0.606\n",
      "Итерация:132, время выполнения 0.613\n",
      "Итерация:133, время выполнения 0.63\n",
      "Итерация:134, время выполнения 0.639\n",
      "Итерация:135, время выполнения 0.658\n",
      "Итерация:136, время выполнения 0.678\n",
      "Итерация:137, время выполнения 0.705\n",
      "Итерация:138, время выполнения 0.707\n",
      "Итерация:139, время выполнения 0.746\n",
      "Итерация:140, время выполнения 0.756\n",
      "Итерация:141, время выполнения 0.757\n",
      "Итерация:142, время выполнения 0.78\n",
      "Итерация:143, время выполнения 0.792\n",
      "Итерация:144, время выполнения 0.808\n",
      "Итерация:145, время выполнения 0.831\n",
      "Итерация:146, время выполнения 0.855\n",
      "Итерация:147, время выполнения 0.858\n",
      "Итерация:148, время выполнения 0.892\n",
      "Итерация:149, время выполнения 0.911\n",
      "Итерация:150, время выполнения 0.92\n",
      "Итерация:151, время выполнения 0.943\n",
      "Итерация:152, время выполнения 0.962\n",
      "Итерация:153, время выполнения 1.004\n",
      "Итерация:154, время выполнения 1.007\n",
      "Итерация:155, время выполнения 1.028\n",
      "Итерация:156, время выполнения 1.04\n",
      "Итерация:157, время выполнения 1.062\n",
      "Итерация:158, время выполнения 1.093\n",
      "Итерация:159, время выполнения 1.095\n",
      "Итерация:160, время выполнения 1.113\n",
      "Итерация:161, время выполнения 1.138\n",
      "Итерация:162, время выполнения 1.164\n",
      "Итерация:163, время выполнения 1.179\n",
      "Итерация:164, время выполнения 1.212\n",
      "Итерация:165, время выполнения 1.223\n",
      "Итерация:166, время выполнения 1.249\n",
      "Итерация:167, время выполнения 1.257\n",
      "Итерация:168, время выполнения 1.281\n",
      "Итерация:169, время выполнения 1.316\n",
      "Итерация:170, время выполнения 1.342\n",
      "Итерация:171, время выполнения 1.348\n",
      "Итерация:172, время выполнения 1.392\n",
      "Итерация:173, время выполнения 1.455\n",
      "Итерация:174, время выполнения 1.438\n",
      "Итерация:175, время выполнения 1.539\n",
      "Итерация:176, время выполнения 3.684\n",
      "Итерация:177, время выполнения 4.273\n",
      "Итерация:178, время выполнения 4.305\n",
      "Итерация:179, время выполнения 4.361\n",
      "Итерация:180, время выполнения 3.685\n",
      "Итерация:181, время выполнения 1.639\n",
      "Итерация:182, время выполнения 1.67\n",
      "Итерация:183, время выполнения 1.712\n",
      "Итерация:184, время выполнения 1.727\n",
      "Итерация:185, время выполнения 1.758\n",
      "Итерация:186, время выполнения 1.793\n",
      "Итерация:187, время выполнения 1.798\n",
      "Итерация:188, время выполнения 1.844\n",
      "Итерация:189, время выполнения 3.691\n",
      "Итерация:190, время выполнения 5.284\n",
      "Итерация:191, время выполнения 5.338\n",
      "Итерация:192, время выполнения 5.524\n",
      "Итерация:193, время выполнения 5.52\n",
      "Итерация:194, время выполнения 5.574\n",
      "Итерация:195, время выполнения 5.734\n",
      "Итерация:196, время выполнения 5.732\n",
      "Итерация:197, время выполнения 2.91\n",
      "Итерация:198, время выполнения 2.119\n",
      "Итерация:199, время выполнения 2.154\n"
     ],
     "output_type":"stream"
    },
    {
     "data":{
      "application\/vnd.plotly.v1+json":{
       "data":[
        {
         "hovertemplate":"variable=0<br>index=%{x}<br>value=%{y}<extra><\/extra>",
         "legendgroup":"0",
         "line":{
          "color":"#636efa",
          "dash":"solid"
         },
         "marker":{
          "symbol":"circle"
         },
         "mode":"lines",
         "name":"0",
         "orientation":"v",
         "showlegend":true,
         "x":[
          0,
          1,
          2,
          3,
          4,
          5,
          6,
          7,
          8,
          9,
          10,
          11,
          12,
          13,
          14,
          15,
          16,
          17,
          18,
          19,
          20,
          21,
          22,
          23,
          24,
          25,
          26,
          27,
          28,
          29,
          30,
          31,
          32,
          33,
          34,
          35,
          36,
          37,
          38,
          39,
          40,
          41,
          42,
          43,
          44,
          45,
          46,
          47,
          48,
          49,
          50,
          51,
          52,
          53,
          54,
          55,
          56,
          57,
          58,
          59,
          60,
          61,
          62,
          63,
          64,
          65,
          66,
          67,
          68,
          69,
          70,
          71,
          72,
          73,
          74,
          75,
          76,
          77,
          78,
          79,
          80,
          81,
          82,
          83,
          84,
          85,
          86,
          87,
          88,
          89,
          90,
          91,
          92,
          93,
          94,
          95,
          96,
          97,
          98,
          99,
          100,
          101,
          102,
          103,
          104,
          105,
          106,
          107,
          108,
          109,
          110,
          111,
          112,
          113,
          114,
          115,
          116,
          117,
          118,
          119,
          120,
          121,
          122,
          123,
          124,
          125,
          126,
          127,
          128,
          129,
          130,
          131,
          132,
          133,
          134,
          135,
          136,
          137,
          138,
          139,
          140,
          141,
          142,
          143,
          144,
          145,
          146,
          147,
          148,
          149,
          150,
          151,
          152,
          153,
          154,
          155,
          156,
          157,
          158,
          159,
          160,
          161,
          162,
          163,
          164,
          165,
          166,
          167,
          168,
          169,
          170,
          171,
          172,
          173,
          174,
          175,
          176,
          177,
          178,
          179,
          180,
          181,
          182,
          183,
          184,
          185,
          186,
          187,
          188,
          189,
          190,
          191,
          192,
          193,
          194,
          195,
          196,
          197,
          198
         ],
         "xaxis":"x",
         "y":[
          3.5999999999999994E-6,
          6.2E-6,
          1.0E-5,
          1.74E-5,
          2.98E-5,
          5.120000000000001E-5,
          7.500000000000001E-5,
          1.158E-4,
          1.4780000000000001E-4,
          2.74E-4,
          5.576E-4,
          3.686E-4,
          4.902E-4,
          0.001163,
          7.554E-4,
          9.19E-4,
          0.0011082,
          0.0030908,
          0.0031828000000000004,
          0.004683,
          0.0062416,
          0.0063792,
          0.0028689999999999996,
          0.00388,
          0.0038732000000000003,
          0.0042706,
          0.004827400000000001,
          0.005571,
          0.006192999999999999,
          0.006647200000000001,
          0.0073571999999999995,
          0.0081826,
          0.0090026,
          0.010277600000000001,
          0.010841799999999999,
          0.0118334,
          0.0128506,
          0.014053000000000001,
          0.015120599999999998,
          0.016715999999999998,
          0.0177426,
          0.0191658,
          0.0206964,
          0.022227599999999997,
          0.023656200000000002,
          0.025436999999999998,
          0.027112599999999997,
          0.0288498,
          0.0303632,
          0.032728400000000005,
          0.0344524,
          0.0367512,
          0.038755,
          0.0411562,
          0.043452000000000005,
          0.0458658,
          0.048664599999999995,
          0.0509718,
          0.0538794,
          0.056600000000000004,
          0.0595696,
          0.0629284,
          0.06578700000000001,
          0.0692802,
          0.0722512,
          0.0754454,
          0.07901159999999999,
          0.082481,
          0.0864592,
          0.09014799999999999,
          0.09398979999999998,
          0.0980326,
          0.1022556,
          0.1094214,
          0.11099080000000001,
          0.11538299999999999,
          0.12173780000000001,
          0.12608160000000002,
          0.12986399999999998,
          0.1346324,
          0.1399652,
          0.1450656,
          0.15047660000000002,
          0.15605259999999999,
          0.16206,
          0.1680044,
          0.17357080000000003,
          0.1791284,
          0.1858438,
          0.1919856,
          0.1989714,
          0.2059688,
          0.2115698,
          0.21870719999999996,
          0.22619979999999998,
          0.23275459999999998,
          0.2409944,
          0.2492572,
          0.25658300000000006,
          0.26361199999999996,
          0.27185380000000003,
          0.2800144,
          0.288995,
          0.2996696,
          0.306769,
          0.3153612,
          0.3258222,
          0.3353406,
          0.3427194,
          0.3523276,
          0.3626334,
          0.3725606,
          0.3819718,
          0.3929374,
          0.40378100000000006,
          0.45216880000000004,
          0.4253106,
          0.43542699999999995,
          0.4485092,
          0.460787,
          0.47162160000000003,
          0.48231540000000006,
          0.494263,
          0.5055284,
          0.5196462000000001,
          0.5326334000000001,
          0.5460046000000001,
          0.5592227999999999,
          0.5691982,
          0.5887586,
          0.6055578,
          0.61272,
          0.6299178,
          0.6389182,
          0.6580006,
          0.6781338,
          0.7049228000000001,
          0.7070738000000001,
          0.7455263999999999,
          0.7561196000000001,
          0.7568988,
          0.78002,
          0.7919271999999999,
          0.8082356,
          0.8307794000000002,
          0.8553004,
          0.8579728,
          0.8920072000000001,
          0.9113758000000001,
          0.9203348,
          0.9426653999999999,
          0.9615326,
          1.0043514,
          1.0072128,
          1.0284891999999999,
          1.0398429999999999,
          1.062109,
          1.093219,
          1.094751,
          1.1126881999999998,
          1.1380016000000002,
          1.1644006,
          1.179045,
          1.212011,
          1.2230442,
          1.2492138000000002,
          1.2565122,
          1.2812718,
          1.3161608,
          1.3421776,
          1.3478094,
          1.3918210000000002,
          1.4551296,
          1.437807,
          1.5392144,
          3.6842514,
          4.273440599999999,
          4.304850999999999,
          4.3609881999999995,
          3.6850136,
          1.6393118000000002,
          1.6695723999999998,
          1.7122970000000002,
          1.7274146000000001,
          1.7576442,
          1.7926786,
          1.7978608,
          1.8439168000000001,
          3.6905888000000004,
          5.284354,
          5.338134599999999,
          5.5235602,
          5.5203858,
          5.5739719999999995,
          5.7342826,
          5.7317138,
          2.9104876,
          2.1190506000000005,
          2.1535044
         ],
         "yaxis":"y",
         "type":"scatter"
        }
       ],
       "layout":{
        "template":{
         "data":{
          "bar":[
           {
            "error_x":{
             "color":"#2a3f5f"
            },
            "error_y":{
             "color":"#2a3f5f"
            },
            "marker":{
             "line":{
              "color":"#E5ECF6",
              "width":0.5
             },
             "pattern":{
              "fillmode":"overlay",
              "size":10,
              "solidity":0.2
             }
            },
            "type":"bar"
           }
          ],
          "barpolar":[
           {
            "marker":{
             "line":{
              "color":"#E5ECF6",
              "width":0.5
             },
             "pattern":{
              "fillmode":"overlay",
              "size":10,
              "solidity":0.2
             }
            },
            "type":"barpolar"
           }
          ],
          "carpet":[
           {
            "aaxis":{
             "endlinecolor":"#2a3f5f",
             "gridcolor":"white",
             "linecolor":"white",
             "minorgridcolor":"white",
             "startlinecolor":"#2a3f5f"
            },
            "baxis":{
             "endlinecolor":"#2a3f5f",
             "gridcolor":"white",
             "linecolor":"white",
             "minorgridcolor":"white",
             "startlinecolor":"#2a3f5f"
            },
            "type":"carpet"
           }
          ],
          "choropleth":[
           {
            "colorbar":{
             "outlinewidth":0,
             "ticks":""
            },
            "type":"choropleth"
           }
          ],
          "contour":[
           {
            "colorbar":{
             "outlinewidth":0,
             "ticks":""
            },
            "colorscale":[
             [
              0,
              "#0d0887"
             ],
             [
              0.1111111111111111,
              "#46039f"
             ],
             [
              0.2222222222222222,
              "#7201a8"
             ],
             [
              0.3333333333333333,
              "#9c179e"
             ],
             [
              0.4444444444444444,
              "#bd3786"
             ],
             [
              0.5555555555555556,
              "#d8576b"
             ],
             [
              0.6666666666666666,
              "#ed7953"
             ],
             [
              0.7777777777777778,
              "#fb9f3a"
             ],
             [
              0.8888888888888888,
              "#fdca26"
             ],
             [
              1,
              "#f0f921"
             ]
            ],
            "type":"contour"
           }
          ],
          "contourcarpet":[
           {
            "colorbar":{
             "outlinewidth":0,
             "ticks":""
            },
            "type":"contourcarpet"
           }
          ],
          "heatmap":[
           {
            "colorbar":{
             "outlinewidth":0,
             "ticks":""
            },
            "colorscale":[
             [
              0,
              "#0d0887"
             ],
             [
              0.1111111111111111,
              "#46039f"
             ],
             [
              0.2222222222222222,
              "#7201a8"
             ],
             [
              0.3333333333333333,
              "#9c179e"
             ],
             [
              0.4444444444444444,
              "#bd3786"
             ],
             [
              0.5555555555555556,
              "#d8576b"
             ],
             [
              0.6666666666666666,
              "#ed7953"
             ],
             [
              0.7777777777777778,
              "#fb9f3a"
             ],
             [
              0.8888888888888888,
              "#fdca26"
             ],
             [
              1,
              "#f0f921"
             ]
            ],
            "type":"heatmap"
           }
          ],
          "heatmapgl":[
           {
            "colorbar":{
             "outlinewidth":0,
             "ticks":""
            },
            "colorscale":[
             [
              0,
              "#0d0887"
             ],
             [
              0.1111111111111111,
              "#46039f"
             ],
             [
              0.2222222222222222,
              "#7201a8"
             ],
             [
              0.3333333333333333,
              "#9c179e"
             ],
             [
              0.4444444444444444,
              "#bd3786"
             ],
             [
              0.5555555555555556,
              "#d8576b"
             ],
             [
              0.6666666666666666,
              "#ed7953"
             ],
             [
              0.7777777777777778,
              "#fb9f3a"
             ],
             [
              0.8888888888888888,
              "#fdca26"
             ],
             [
              1,
              "#f0f921"
             ]
            ],
            "type":"heatmapgl"
           }
          ],
          "histogram":[
           {
            "marker":{
             "pattern":{
              "fillmode":"overlay",
              "size":10,
              "solidity":0.2
             }
            },
            "type":"histogram"
           }
          ],
          "histogram2d":[
           {
            "colorbar":{
             "outlinewidth":0,
             "ticks":""
            },
            "colorscale":[
             [
              0,
              "#0d0887"
             ],
             [
              0.1111111111111111,
              "#46039f"
             ],
             [
              0.2222222222222222,
              "#7201a8"
             ],
             [
              0.3333333333333333,
              "#9c179e"
             ],
             [
              0.4444444444444444,
              "#bd3786"
             ],
             [
              0.5555555555555556,
              "#d8576b"
             ],
             [
              0.6666666666666666,
              "#ed7953"
             ],
             [
              0.7777777777777778,
              "#fb9f3a"
             ],
             [
              0.8888888888888888,
              "#fdca26"
             ],
             [
              1,
              "#f0f921"
             ]
            ],
            "type":"histogram2d"
           }
          ],
          "histogram2dcontour":[
           {
            "colorbar":{
             "outlinewidth":0,
             "ticks":""
            },
            "colorscale":[
             [
              0,
              "#0d0887"
             ],
             [
              0.1111111111111111,
              "#46039f"
             ],
             [
              0.2222222222222222,
              "#7201a8"
             ],
             [
              0.3333333333333333,
              "#9c179e"
             ],
             [
              0.4444444444444444,
              "#bd3786"
             ],
             [
              0.5555555555555556,
              "#d8576b"
             ],
             [
              0.6666666666666666,
              "#ed7953"
             ],
             [
              0.7777777777777778,
              "#fb9f3a"
             ],
             [
              0.8888888888888888,
              "#fdca26"
             ],
             [
              1,
              "#f0f921"
             ]
            ],
            "type":"histogram2dcontour"
           }
          ],
          "mesh3d":[
           {
            "colorbar":{
             "outlinewidth":0,
             "ticks":""
            },
            "type":"mesh3d"
           }
          ],
          "parcoords":[
           {
            "line":{
             "colorbar":{
              "outlinewidth":0,
              "ticks":""
             }
            },
            "type":"parcoords"
           }
          ],
          "pie":[
           {
            "automargin":true,
            "type":"pie"
           }
          ],
          "scatter":[
           {
            "marker":{
             "colorbar":{
              "outlinewidth":0,
              "ticks":""
             }
            },
            "type":"scatter"
           }
          ],
          "scatter3d":[
           {
            "line":{
             "colorbar":{
              "outlinewidth":0,
              "ticks":""
             }
            },
            "marker":{
             "colorbar":{
              "outlinewidth":0,
              "ticks":""
             }
            },
            "type":"scatter3d"
           }
          ],
          "scattercarpet":[
           {
            "marker":{
             "colorbar":{
              "outlinewidth":0,
              "ticks":""
             }
            },
            "type":"scattercarpet"
           }
          ],
          "scattergeo":[
           {
            "marker":{
             "colorbar":{
              "outlinewidth":0,
              "ticks":""
             }
            },
            "type":"scattergeo"
           }
          ],
          "scattergl":[
           {
            "marker":{
             "colorbar":{
              "outlinewidth":0,
              "ticks":""
             }
            },
            "type":"scattergl"
           }
          ],
          "scattermapbox":[
           {
            "marker":{
             "colorbar":{
              "outlinewidth":0,
              "ticks":""
             }
            },
            "type":"scattermapbox"
           }
          ],
          "scatterpolar":[
           {
            "marker":{
             "colorbar":{
              "outlinewidth":0,
              "ticks":""
             }
            },
            "type":"scatterpolar"
           }
          ],
          "scatterpolargl":[
           {
            "marker":{
             "colorbar":{
              "outlinewidth":0,
              "ticks":""
             }
            },
            "type":"scatterpolargl"
           }
          ],
          "scatterternary":[
           {
            "marker":{
             "colorbar":{
              "outlinewidth":0,
              "ticks":""
             }
            },
            "type":"scatterternary"
           }
          ],
          "surface":[
           {
            "colorbar":{
             "outlinewidth":0,
             "ticks":""
            },
            "colorscale":[
             [
              0,
              "#0d0887"
             ],
             [
              0.1111111111111111,
              "#46039f"
             ],
             [
              0.2222222222222222,
              "#7201a8"
             ],
             [
              0.3333333333333333,
              "#9c179e"
             ],
             [
              0.4444444444444444,
              "#bd3786"
             ],
             [
              0.5555555555555556,
              "#d8576b"
             ],
             [
              0.6666666666666666,
              "#ed7953"
             ],
             [
              0.7777777777777778,
              "#fb9f3a"
             ],
             [
              0.8888888888888888,
              "#fdca26"
             ],
             [
              1,
              "#f0f921"
             ]
            ],
            "type":"surface"
           }
          ],
          "table":[
           {
            "cells":{
             "fill":{
              "color":"#EBF0F8"
             },
             "line":{
              "color":"white"
             }
            },
            "header":{
             "fill":{
              "color":"#C8D4E3"
             },
             "line":{
              "color":"white"
             }
            },
            "type":"table"
           }
          ]
         },
         "layout":{
          "annotationdefaults":{
           "arrowcolor":"#2a3f5f",
           "arrowhead":0,
           "arrowwidth":1
          },
          "autotypenumbers":"strict",
          "coloraxis":{
           "colorbar":{
            "outlinewidth":0,
            "ticks":""
           }
          },
          "colorscale":{
           "diverging":[
            [
             0,
             "#8e0152"
            ],
            [
             0.1,
             "#c51b7d"
            ],
            [
             0.2,
             "#de77ae"
            ],
            [
             0.3,
             "#f1b6da"
            ],
            [
             0.4,
             "#fde0ef"
            ],
            [
             0.5,
             "#f7f7f7"
            ],
            [
             0.6,
             "#e6f5d0"
            ],
            [
             0.7,
             "#b8e186"
            ],
            [
             0.8,
             "#7fbc41"
            ],
            [
             0.9,
             "#4d9221"
            ],
            [
             1,
             "#276419"
            ]
           ],
           "sequential":[
            [
             0,
             "#0d0887"
            ],
            [
             0.1111111111111111,
             "#46039f"
            ],
            [
             0.2222222222222222,
             "#7201a8"
            ],
            [
             0.3333333333333333,
             "#9c179e"
            ],
            [
             0.4444444444444444,
             "#bd3786"
            ],
            [
             0.5555555555555556,
             "#d8576b"
            ],
            [
             0.6666666666666666,
             "#ed7953"
            ],
            [
             0.7777777777777778,
             "#fb9f3a"
            ],
            [
             0.8888888888888888,
             "#fdca26"
            ],
            [
             1,
             "#f0f921"
            ]
           ],
           "sequentialminus":[
            [
             0,
             "#0d0887"
            ],
            [
             0.1111111111111111,
             "#46039f"
            ],
            [
             0.2222222222222222,
             "#7201a8"
            ],
            [
             0.3333333333333333,
             "#9c179e"
            ],
            [
             0.4444444444444444,
             "#bd3786"
            ],
            [
             0.5555555555555556,
             "#d8576b"
            ],
            [
             0.6666666666666666,
             "#ed7953"
            ],
            [
             0.7777777777777778,
             "#fb9f3a"
            ],
            [
             0.8888888888888888,
             "#fdca26"
            ],
            [
             1,
             "#f0f921"
            ]
           ]
          },
          "colorway":[
           "#636efa",
           "#EF553B",
           "#00cc96",
           "#ab63fa",
           "#FFA15A",
           "#19d3f3",
           "#FF6692",
           "#B6E880",
           "#FF97FF",
           "#FECB52"
          ],
          "font":{
           "color":"#2a3f5f"
          },
          "geo":{
           "bgcolor":"white",
           "lakecolor":"white",
           "landcolor":"#E5ECF6",
           "showlakes":true,
           "showland":true,
           "subunitcolor":"white"
          },
          "hoverlabel":{
           "align":"left"
          },
          "hovermode":"closest",
          "mapbox":{
           "style":"light"
          },
          "paper_bgcolor":"white",
          "plot_bgcolor":"#E5ECF6",
          "polar":{
           "angularaxis":{
            "gridcolor":"white",
            "linecolor":"white",
            "ticks":""
           },
           "bgcolor":"#E5ECF6",
           "radialaxis":{
            "gridcolor":"white",
            "linecolor":"white",
            "ticks":""
           }
          },
          "scene":{
           "xaxis":{
            "backgroundcolor":"#E5ECF6",
            "gridcolor":"white",
            "gridwidth":2,
            "linecolor":"white",
            "showbackground":true,
            "ticks":"",
            "zerolinecolor":"white"
           },
           "yaxis":{
            "backgroundcolor":"#E5ECF6",
            "gridcolor":"white",
            "gridwidth":2,
            "linecolor":"white",
            "showbackground":true,
            "ticks":"",
            "zerolinecolor":"white"
           },
           "zaxis":{
            "backgroundcolor":"#E5ECF6",
            "gridcolor":"white",
            "gridwidth":2,
            "linecolor":"white",
            "showbackground":true,
            "ticks":"",
            "zerolinecolor":"white"
           }
          },
          "shapedefaults":{
           "line":{
            "color":"#2a3f5f"
           }
          },
          "ternary":{
           "aaxis":{
            "gridcolor":"white",
            "linecolor":"white",
            "ticks":""
           },
           "baxis":{
            "gridcolor":"white",
            "linecolor":"white",
            "ticks":""
           },
           "bgcolor":"#E5ECF6",
           "caxis":{
            "gridcolor":"white",
            "linecolor":"white",
            "ticks":""
           }
          },
          "title":{
           "x":0.05
          },
          "xaxis":{
           "automargin":true,
           "gridcolor":"white",
           "linecolor":"white",
           "ticks":"",
           "title":{
            "standoff":15
           },
           "zerolinecolor":"white",
           "zerolinewidth":2
          },
          "yaxis":{
           "automargin":true,
           "gridcolor":"white",
           "linecolor":"white",
           "ticks":"",
           "title":{
            "standoff":15
           },
           "zerolinecolor":"white",
           "zerolinewidth":2
          }
         }
        },
        "xaxis":{
         "anchor":"y",
         "domain":[
          0,
          1
         ],
         "title":{
          "text":"observation"
         }
        },
        "yaxis":{
         "anchor":"x",
         "domain":[
          0,
          1
         ],
         "title":{
          "text":"mean_time"
         }
        },
        "legend":{
         "title":{
          "text":"variable"
         },
         "tracegroupgap":0
        },
        "title":{
         "text":"matrix_product"
        }
       },
       "config":{
        "plotlyServerURL":"https:\/\/plot.ly"
       }
      }
     },
     "metadata":{
      
     },
     "output_type":"display_data"
    }
   ],
   "metadata":{
    "datalore":{
     "node_id":"swy0z3ASItbnAD4QEYHbaf",
     "type":"CODE",
     "hide_input_from_viewers":false,
     "hide_output_from_viewers":false
    }
   }
  },
  {
   "cell_type":"markdown",
   "source":[
    "## III. Describe the data structures and design techniques used within the algorithms.\n",
    "\n",
    "We tried to use a functional approach while doing the lab, so we can reuse code and easily refactor it if problems occures.\n",
    "\n",
    "In our point of view the most interesting in this lab was the designing `generate_sqare_matrix()` function. It accepts `matrix size` as an arg and returns square matrix filled with the random values from 0 to size. Its Time & Space Complexities are O(n^2) both, cause it uses double for loop which walks through lines and elements:\n",
    "```py\n",
    " for i in range(length):\n",
    "        for j in range(length):\n",
    "            # do_lab XD\n",
    "```"
   ],
   "attachments":{
    
   },
   "metadata":{
    "datalore":{
     "node_id":"wV79rGQmmFGpbJJqgKTsvx",
     "type":"MD",
     "hide_input_from_viewers":false,
     "hide_output_from_viewers":false
    }
   }
  }
 ],
 "metadata":{
  "kernelspec":{
   "display_name":"Python",
   "language":"python",
   "name":"python"
  },
  "datalore":{
   "version":1,
   "computation_mode":"JUPYTER",
   "packages":[
    
   ]
  }
 },
 "nbformat":4,
 "nbformat_minor":4
}